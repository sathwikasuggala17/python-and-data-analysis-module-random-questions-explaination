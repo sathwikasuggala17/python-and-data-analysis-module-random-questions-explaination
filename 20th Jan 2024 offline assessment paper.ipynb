{
 "cells": [
  {
   "cell_type": "markdown",
   "id": "3501e77c",
   "metadata": {},
   "source": [
    "### **python module**"
   ]
  },
  {
   "cell_type": "markdown",
   "id": "4ab73f38",
   "metadata": {},
   "source": [
    "**1) what will be the the output of the following in python programming?**\n",
    "1) Error\n",
    "2) None\n",
    "3) False\n",
    "4) True : \n",
    "#### answer : option 4) The correct answer is True if the id of the original list q is equal to the id returned by the foo function."
   ]
  },
  {
   "cell_type": "code",
   "execution_count": 2,
   "id": "f2c60706",
   "metadata": {},
   "outputs": [
    {
     "name": "stdout",
     "output_type": "stream",
     "text": [
      "True\n"
     ]
    }
   ],
   "source": [
    "def foo(x): # foo function takes a parameter x.\n",
    "    x[0] = ['def'] # it modifies first and second element of list x to be new lists \n",
    "    x[1] = ['abc'] \n",
    "    return id(x) # return unique identifiers of x using id() function\n",
    "q = ['abc', 'def'] # outside func a list q is defined with x elements\n",
    "print(id(q) == foo(q)) # prints result of comparing the unique identifier of q with the result of calling the foo() function with q as the argument."
   ]
  },
  {
   "cell_type": "markdown",
   "id": "b38d416a",
   "metadata": {},
   "source": [
    "**2) what will be the output of the following python code?**\n",
    "1) error,there is more than one return statement in asingle try-finally block\n",
    "2) 1\n",
    "3) 1 2\n",
    "4) 2\n",
    "#### answer : option 4) In the presence of a finally block, if there is a return statement in both the try and finally blocks, the return statement in the finally block takes precedence. It overrides any return statement in the try block.and in the above code the function will return '2' as its being returned in finally block in the function."
   ]
  },
  {
   "cell_type": "code",
   "execution_count": 3,
   "id": "f88917ba",
   "metadata": {},
   "outputs": [
    {
     "name": "stdout",
     "output_type": "stream",
     "text": [
      "2\n"
     ]
    }
   ],
   "source": [
    "def fun(): # inside the fun function it has try-except-finally block.\n",
    "    try:\n",
    "        return 1 # the try block returns the value 1.\n",
    "    finally: \n",
    "        return 2 #The finally block also has a return statement, but it does not specify any value to return. This means it will not return any explicit value.\n",
    "k = fun() # The variable k is assigned the result of calling the fun() function.\n",
    "print(k) # Finally, the code prints the value of k, which will be None since the finally block does not return a value."
   ]
  },
  {
   "cell_type": "markdown",
   "id": "c0865f68",
   "metadata": {},
   "source": [
    "**3) what will be the the output of the following code snippet?**"
   ]
  },
  {
   "cell_type": "code",
   "execution_count": 4,
   "id": "ba4d4dd3",
   "metadata": {},
   "outputs": [
    {
     "name": "stdout",
     "output_type": "stream",
     "text": [
      "local\n"
     ]
    }
   ],
   "source": [
    "def func(): # function named func \n",
    "    global value # a global variable named value\n",
    "    value = 'local' # Inside the func function, it assigns the string value 'local' to the global variable value.\n",
    "value = 'global' \n",
    "func() # Then, the initial value of the global variable 'global' is overwritten by calling the func function. \n",
    "print(value) # Finally, the value of the global variable is printed, which will be 'local' since it was modified inside the func function."
   ]
  },
  {
   "cell_type": "markdown",
   "id": "5bfe6d00",
   "metadata": {},
   "source": [
    "**4) ____IOError____expectations are raised as a result of an error in opening a particular file (IOE : input/output device error)**\n",
    "* output : IOError: This exception is raised when an I/O operation, such as reading or writing a file, fails due to an input/output error."
   ]
  },
  {
   "cell_type": "markdown",
   "id": "42c1924b",
   "metadata": {},
   "source": [
    "**5) in python we do not specify types, it is directly interpreted by the compiler, so consider the following operation to be performed**\n",
    "\n",
    "1) x = 13//2  # it evaluates 6 in integer div\n",
    "2) x = int(13/2)  # reg div here converts result to an int result will be 6. # fractional part is discarded during the conversion.\n",
    "3) x = 13%2  # it calculates remainder of the division reminder is 1\n",
    "4) all of the mentioned  # here option d was correct because every operation is performed\n",
    "#### answer : option 3) x = 13 % 2: This performs the modulus operation, and the result is 1. The % operator gives the remainder when 13 is divided by 2."
   ]
  },
  {
   "cell_type": "code",
   "execution_count": 5,
   "id": "50dd9a9c",
   "metadata": {},
   "outputs": [
    {
     "data": {
      "text/plain": [
       "1"
      ]
     },
     "execution_count": 5,
     "metadata": {},
     "output_type": "execute_result"
    }
   ],
   "source": [
    "x = 13 % 2\n",
    "x"
   ]
  },
  {
   "cell_type": "markdown",
   "id": "b1b41e83",
   "metadata": {},
   "source": [
    "**6) what will be the output of the following python code?**\n",
    "#### NameError\n",
    "* it typically occurs when trying to access a variable or name that is not defined. If t is not defined earlier in the code, a NameError might occur, but it wouldn't be the primary issue here."
   ]
  },
  {
   "cell_type": "code",
   "execution_count": 6,
   "id": "e28cd66c",
   "metadata": {},
   "outputs": [
    {
     "ename": "NameError",
     "evalue": "name 't' is not defined",
     "output_type": "error",
     "traceback": [
      "\u001b[1;31m---------------------------------------------------------------------------\u001b[0m",
      "\u001b[1;31mNameError\u001b[0m                                 Traceback (most recent call last)",
      "Cell \u001b[1;32mIn[6], line 1\u001b[0m\n\u001b[1;32m----> 1\u001b[0m t[\u001b[38;5;241m5\u001b[39m]\n",
      "\u001b[1;31mNameError\u001b[0m: name 't' is not defined"
     ]
    }
   ],
   "source": [
    "t[5]"
   ]
  },
  {
   "cell_type": "markdown",
   "id": "76a45132",
   "metadata": {},
   "source": [
    "**7) a while loop in python is used for what type of iteration?**\n",
    "1) indefinite\n",
    "2) discriminant\n",
    "3) definite\n",
    "4) indeterminate\n",
    "\n",
    "#### answer : option 1) is correct\n",
    "\n",
    "A while loop in Python is used for indefinite iteration, meaning it continues to execute the block of code as long as the specified condition remains true. The loop continues until the condition becomes false or until a break statement is encountered within the loop."
   ]
  },
  {
   "cell_type": "markdown",
   "id": "0906f109",
   "metadata": {},
   "source": [
    "**8) what will be the iutput of the following python code?**\n",
    "1) a b c d e f\n",
    "2) abcdef\n",
    "3) iiiiii......\n",
    "4) Error : code is raising nameerror because we are using undefined variable i in while loop."
   ]
  },
  {
   "cell_type": "code",
   "execution_count": 7,
   "id": "eb739f95",
   "metadata": {},
   "outputs": [
    {
     "ename": "NameError",
     "evalue": "name 'i' is not defined",
     "output_type": "error",
     "traceback": [
      "\u001b[1;31m---------------------------------------------------------------------------\u001b[0m",
      "\u001b[1;31mNameError\u001b[0m                                 Traceback (most recent call last)",
      "Cell \u001b[1;32mIn[7], line 2\u001b[0m\n\u001b[0;32m      1\u001b[0m x \u001b[38;5;241m=\u001b[39m \u001b[38;5;124m'\u001b[39m\u001b[38;5;124mabcdef\u001b[39m\u001b[38;5;124m'\u001b[39m\n\u001b[1;32m----> 2\u001b[0m \u001b[38;5;28;01mwhile\u001b[39;00m i \u001b[38;5;129;01min\u001b[39;00m x: \u001b[38;5;66;03m# i variable is unpresent in x\u001b[39;00m\n\u001b[0;32m      3\u001b[0m     \u001b[38;5;28mprint\u001b[39m(i, end \u001b[38;5;241m=\u001b[39m \u001b[38;5;124m\"\u001b[39m\u001b[38;5;124m \u001b[39m\u001b[38;5;124m\"\u001b[39m)\n",
      "\u001b[1;31mNameError\u001b[0m: name 'i' is not defined"
     ]
    }
   ],
   "source": [
    "x = 'abcdef'\n",
    "while i in x: # i variable is unpresent in x\n",
    "    print(i, end = \" \") # so, error raised"
   ]
  },
  {
   "cell_type": "markdown",
   "id": "a854b75a",
   "metadata": {},
   "source": [
    "#### 9) what will be the main advantage of using decorators in python?\n",
    "1) they make the code more complex\n",
    "2) they simplify the syntax of the decorated functions\n",
    "3) they reduce the performance of the code\n",
    "4) they provide additional security features\n",
    "\n",
    "#### answer : option 2) "
   ]
  },
  {
   "cell_type": "markdown",
   "id": "4eac789c",
   "metadata": {},
   "source": [
    "#### 10) if return statement is not used inside the function, the function will return:\n",
    "1) None\n",
    "2) 0\n",
    "3) Null\n",
    "4) arbitary value\n",
    "\n",
    "#### answer : If a return statement is not used inside a Python function, the function will return None. In Python, functions without an explicit return statement automatically return None by default."
   ]
  },
  {
   "cell_type": "markdown",
   "id": "a080144a",
   "metadata": {},
   "source": [
    "#### 11) What is called when a function is defined inside a class?\n",
    "1) class\n",
    "2) function\n",
    "3) method\n",
    "4) module\n",
    "\n",
    "#### answer : 3) method\n",
    "* When a function is defined inside a class in Python, it is referred to as a method. Methods in classes are functions that are associated with an instance of the class, and they can access and modify the attributes of that instance."
   ]
  },
  {
   "cell_type": "markdown",
   "id": "3efe9e46",
   "metadata": {},
   "source": [
    "#### 12) Which operator is used in Python to import modules from packages?\n",
    "1) .\n",
    "2) *\n",
    "3) ->\n",
    "4) &\n",
    "\n",
    "#### answer : option 1) dot (.)\n",
    "* In Python, the dot (.) operator is used to import modules from packages.  When you use the dot operator, it allows you to access modules or attributes within a package. For example:\n",
    "* the dot operator is used to specify the hierarchy of the package and module structure."
   ]
  },
  {
   "cell_type": "markdown",
   "id": "f3db3e64",
   "metadata": {},
   "source": [
    "#### 13) question"
   ]
  },
  {
   "cell_type": "code",
   "execution_count": 8,
   "id": "d2e43203",
   "metadata": {},
   "outputs": [
    {
     "name": "stdout",
     "output_type": "stream",
     "text": [
      "6\n"
     ]
    }
   ],
   "source": [
    "def getMonth(m): # it takes an argument m\n",
    "    if m<1 or m>12: # it checks if the value of m is less than 1 or greater than 12\n",
    "        raise ValueError('Invalid') # raises a valueError with invalid\n",
    "    print(m) # if m is within valid range, it prints value of m\n",
    "getMonth(6) # code calls getmonth func with argument 6\n",
    "\n",
    "# 1) ValueError\n",
    "# 2) invalid\n",
    "# 3) 6\n",
    "# 4) ValueError('invalid')"
   ]
  },
  {
   "cell_type": "markdown",
   "id": "10d13f42",
   "metadata": {},
   "source": [
    "#### 14) in the python programming language, syntanx error is detected by _____ at ________  \n",
    "> choose answer correctly\n",
    "\n",
    "1) interpreter / compile time\n",
    "2) run time / interpreter\n",
    "3) interpreter / run time\n",
    "4) compile time / run time\n",
    "\n",
    "#### answer : \n",
    "* parttially we can say it as Interpreter/Runtime,but actually In Python, syntax errors are detected by the interpreter during the parsing phase(when you run a Python script or module, the interpreter reads and analyzes your code line by line. This is the parsing phase)"
   ]
  },
  {
   "cell_type": "markdown",
   "id": "8797fa06",
   "metadata": {},
   "source": [
    "#### 15) question"
   ]
  },
  {
   "cell_type": "code",
   "execution_count": 9,
   "id": "b3b57452",
   "metadata": {},
   "outputs": [],
   "source": [
    "class book: # code defines class 'book' \n",
    "    def __init__(self, author): #with an initilizer method 'init' that takes parameter 'author' assigns it to the insis\n",
    "        self.author = author # assigns it to instance variable 'self-author'\n",
    "book1 = book('v.m.shah') # code creates instance 'book' called 'book1' and passes string 'v.m.shah as arg for 'author' parameter\n",
    "book2 = book1 # code created another instance 'book' called class 'book2' and assigns it to a value 'book1'"
   ]
  },
  {
   "cell_type": "code",
   "execution_count": 10,
   "id": "90f3d706",
   "metadata": {},
   "outputs": [
    {
     "data": {
      "text/plain": [
       "2016697387088"
      ]
     },
     "execution_count": 10,
     "metadata": {},
     "output_type": "execute_result"
    }
   ],
   "source": [
    "id(book1)"
   ]
  },
  {
   "cell_type": "code",
   "execution_count": 11,
   "id": "9d1e39c6",
   "metadata": {},
   "outputs": [
    {
     "data": {
      "text/plain": [
       "2016697387088"
      ]
     },
     "execution_count": 11,
     "metadata": {},
     "output_type": "execute_result"
    }
   ],
   "source": [
    "id(book2)"
   ]
  },
  {
   "cell_type": "markdown",
   "id": "decc2d87",
   "metadata": {},
   "source": [
    "#### answer : option 2) id(book1) and id(book2) will have same value. both books refers to the same object id values are same. they are two references to the same instance."
   ]
  },
  {
   "cell_type": "markdown",
   "id": "5995ca3c",
   "metadata": {},
   "source": [
    "### Data Analysis module"
   ]
  },
  {
   "cell_type": "code",
   "execution_count": 12,
   "id": "62d6b1b9",
   "metadata": {},
   "outputs": [
    {
     "data": {
      "text/html": [
       "<div>\n",
       "<style scoped>\n",
       "    .dataframe tbody tr th:only-of-type {\n",
       "        vertical-align: middle;\n",
       "    }\n",
       "\n",
       "    .dataframe tbody tr th {\n",
       "        vertical-align: top;\n",
       "    }\n",
       "\n",
       "    .dataframe thead th {\n",
       "        text-align: right;\n",
       "    }\n",
       "</style>\n",
       "<table border=\"1\" class=\"dataframe\">\n",
       "  <thead>\n",
       "    <tr style=\"text-align: right;\">\n",
       "      <th></th>\n",
       "      <th>date</th>\n",
       "      <th>category</th>\n",
       "      <th>product</th>\n",
       "      <th>customerID</th>\n",
       "      <th>quantity</th>\n",
       "      <th>unitprice</th>\n",
       "    </tr>\n",
       "  </thead>\n",
       "  <tbody>\n",
       "    <tr>\n",
       "      <th>0</th>\n",
       "      <td>1/1/2024</td>\n",
       "      <td>beverage</td>\n",
       "      <td>cappuccino</td>\n",
       "      <td>C004</td>\n",
       "      <td>1</td>\n",
       "      <td>3.0</td>\n",
       "    </tr>\n",
       "    <tr>\n",
       "      <th>1</th>\n",
       "      <td>2/1/2024</td>\n",
       "      <td>food</td>\n",
       "      <td>croissant</td>\n",
       "      <td>C002</td>\n",
       "      <td>2</td>\n",
       "      <td>2.0</td>\n",
       "    </tr>\n",
       "    <tr>\n",
       "      <th>2</th>\n",
       "      <td>3/1/2024</td>\n",
       "      <td>beverage</td>\n",
       "      <td>espresso</td>\n",
       "      <td>C001</td>\n",
       "      <td>2</td>\n",
       "      <td>2.0</td>\n",
       "    </tr>\n",
       "    <tr>\n",
       "      <th>3</th>\n",
       "      <td>10/1/2024</td>\n",
       "      <td>beverage</td>\n",
       "      <td>latte</td>\n",
       "      <td>C001</td>\n",
       "      <td>3</td>\n",
       "      <td>3.5</td>\n",
       "    </tr>\n",
       "    <tr>\n",
       "      <th>4</th>\n",
       "      <td>9/1/2024</td>\n",
       "      <td>beverage</td>\n",
       "      <td>latte</td>\n",
       "      <td>C003</td>\n",
       "      <td>1</td>\n",
       "      <td>3.5</td>\n",
       "    </tr>\n",
       "    <tr>\n",
       "      <th>5</th>\n",
       "      <td>8/1/2024</td>\n",
       "      <td>food</td>\n",
       "      <td>muffin</td>\n",
       "      <td>C002</td>\n",
       "      <td>1</td>\n",
       "      <td>2.5</td>\n",
       "    </tr>\n",
       "  </tbody>\n",
       "</table>\n",
       "</div>"
      ],
      "text/plain": [
       "        date  category     product customerID  quantity  unitprice\n",
       "0   1/1/2024  beverage  cappuccino       C004         1        3.0\n",
       "1   2/1/2024      food   croissant       C002         2        2.0\n",
       "2   3/1/2024  beverage    espresso       C001         2        2.0\n",
       "3  10/1/2024  beverage       latte       C001         3        3.5\n",
       "4   9/1/2024  beverage       latte       C003         1        3.5\n",
       "5   8/1/2024      food      muffin       C002         1        2.5"
      ]
     },
     "execution_count": 12,
     "metadata": {},
     "output_type": "execute_result"
    }
   ],
   "source": [
    "import numpy as np \n",
    "import pandas as pd\n",
    "df=pd.read_csv(r\"C:\\Users\\sathw\\Downloads\\Data analysis assesment.csv\")\n",
    "df"
   ]
  },
  {
   "cell_type": "markdown",
   "id": "4c62794f",
   "metadata": {},
   "source": [
    "#### 16) how to create a new column 'revenue', which has values eaquals to the quantity*unitprice of the current row.\n",
    "1) df['Revenue'] = df['Quantity'] * df['UnitPrice']\n",
    "2) df['Revenue'] = df.apply(lambda x:x['Quantity']*x['UnitPrice'],axis=1)\n",
    "3) df['Revenue'] = df.apply(lambda x:x['Quantity']*x['UnitPrice'],axis=0)\n",
    "4) df['Revenue'] = df['Quantity'] ** df['UnitPrice']\n",
    "#### answer : option 1, 2"
   ]
  },
  {
   "cell_type": "code",
   "execution_count": 13,
   "id": "273f0674",
   "metadata": {},
   "outputs": [
    {
     "data": {
      "text/plain": [
       "0     3.0\n",
       "1     4.0\n",
       "2     4.0\n",
       "3    10.5\n",
       "4     3.5\n",
       "5     2.5\n",
       "Name: revenue, dtype: float64"
      ]
     },
     "execution_count": 13,
     "metadata": {},
     "output_type": "execute_result"
    }
   ],
   "source": [
    "# option : a)\n",
    "df['revenue']=df['quantity']*df['unitprice']\n",
    "df['revenue']"
   ]
  },
  {
   "cell_type": "code",
   "execution_count": 14,
   "id": "10c79ae8",
   "metadata": {},
   "outputs": [
    {
     "data": {
      "text/plain": [
       "0     3.0\n",
       "1     4.0\n",
       "2     4.0\n",
       "3    10.5\n",
       "4     3.5\n",
       "5     2.5\n",
       "Name: revenue, dtype: float64"
      ]
     },
     "execution_count": 14,
     "metadata": {},
     "output_type": "execute_result"
    }
   ],
   "source": [
    "# option : b)\n",
    "df['revenue']=df.apply(lambda x:\n",
    "                      x['quantity']*x['unitprice'], axis = 1)\n",
    "df['revenue']"
   ]
  },
  {
   "cell_type": "markdown",
   "id": "6e1b55f8",
   "metadata": {},
   "source": [
    "#### 17) what is the syntax to find categorical wise revenue?\n",
    "1) df.groupby('Category')['Revenue'].mean()\n",
    "2) df.groupby('Category')['Revenue'].sum()\n",
    "3) df.groupby('Category')['Revenue'].agg(np.sum)\n",
    "4) df.groupby('Category')['Revenue'].agg('sum')\n",
    "#### answer : option 2, 3, 4"
   ]
  },
  {
   "cell_type": "code",
   "execution_count": 15,
   "id": "1e4081a2",
   "metadata": {},
   "outputs": [
    {
     "data": {
      "text/plain": [
       "category\n",
       "beverage    21.0\n",
       "food         6.5\n",
       "Name: revenue, dtype: float64"
      ]
     },
     "execution_count": 15,
     "metadata": {},
     "output_type": "execute_result"
    }
   ],
   "source": [
    "df.groupby('category')['revenue'].sum() # it calculates by using the sum function"
   ]
  },
  {
   "cell_type": "code",
   "execution_count": 16,
   "id": "28d59cbe",
   "metadata": {},
   "outputs": [
    {
     "data": {
      "text/plain": [
       "category\n",
       "beverage    21.0\n",
       "food         6.5\n",
       "Name: revenue, dtype: float64"
      ]
     },
     "execution_count": 16,
     "metadata": {},
     "output_type": "execute_result"
    }
   ],
   "source": [
    "import numpy as np\n",
    "df.groupby('category')['revenue'].agg(np.sum) # by using aggregate functions"
   ]
  },
  {
   "cell_type": "code",
   "execution_count": 17,
   "id": "808123f5",
   "metadata": {},
   "outputs": [
    {
     "data": {
      "text/plain": [
       "category\n",
       "beverage    21.0\n",
       "food         6.5\n",
       "Name: revenue, dtype: float64"
      ]
     },
     "execution_count": 17,
     "metadata": {},
     "output_type": "execute_result"
    }
   ],
   "source": [
    "df.groupby('category')['revenue'].agg('sum') # by passing the string method in aggregate function"
   ]
  },
  {
   "cell_type": "markdown",
   "id": "cea8e689",
   "metadata": {},
   "source": [
    "##### 18) to find the average quantity wrt to date and product, what is the correct syntax?\n",
    "1) df.groupby(['Date', 'Product'])['Quantity'].avg()\n",
    "2) df.groupby(['Date', 'Product'])['Quantity'].mean()\n",
    "3) df.groupby(['Product', 'Date'])['Quantity'].avg()\n",
    "4) df.groupby(['Date', 'Mean'])['Quantity'].mean()\n",
    "#### option 2 : it groups the DataFrame by 'date' and 'product' columns then calculates the mean of the 'Quantity' column for each group."
   ]
  },
  {
   "cell_type": "code",
   "execution_count": 18,
   "id": "c1491c45",
   "metadata": {},
   "outputs": [
    {
     "data": {
      "text/plain": [
       "date       product   \n",
       "1/1/2024   cappuccino    1.0\n",
       "10/1/2024  latte         3.0\n",
       "2/1/2024   croissant     2.0\n",
       "3/1/2024   espresso      2.0\n",
       "8/1/2024   muffin        1.0\n",
       "9/1/2024   latte         1.0\n",
       "Name: quantity, dtype: float64"
      ]
     },
     "execution_count": 18,
     "metadata": {},
     "output_type": "execute_result"
    }
   ],
   "source": [
    "df.groupby(['date','product'])['quantity'].mean()"
   ]
  },
  {
   "cell_type": "markdown",
   "id": "3910516f",
   "metadata": {},
   "source": [
    "#### 19) Categorical wise revenue for Bevarage and Food respectively are\n",
    "1) 28.5 , 6.0\n",
    "2) 6.0 , 27.5\n",
    "3) 28.5 ,7.0\n",
    "4) 7.0 , 28.5"
   ]
  },
  {
   "cell_type": "code",
   "execution_count": 19,
   "id": "54b9977c",
   "metadata": {},
   "outputs": [
    {
     "data": {
      "text/plain": [
       "category\n",
       "beverage    21.0\n",
       "food         6.5\n",
       "Name: revenue, dtype: float64"
      ]
     },
     "execution_count": 19,
     "metadata": {},
     "output_type": "execute_result"
    }
   ],
   "source": [
    "df.groupby('category')['revenue'].sum()"
   ]
  },
  {
   "cell_type": "markdown",
   "id": "721e1aea",
   "metadata": {},
   "source": [
    "#### 20) using transform what is the syntax to create a column which has a unitprice difference wrt its category mean ?\n",
    "1) df.groupby('Category')['UnitPrice'].transform(lambda x:x-x.mean())\n",
    "2) df.groupby('Category')('UnitPrice').transform(lambda x:x-x.mean())\n",
    "3) df.groupby['Category']['UnitPrice'].transform(lambda x:x-x.mean())\n",
    "4) df.groupby(['Category','UnitPrice']).transform(lambda x:x-x.mean())\n",
    "#### answer : option 1)  It groups the DataFrame by the 'Category' column and then calculates the unit price difference for each group by subtracting the mean unit price of the category from each individual unit price. "
   ]
  },
  {
   "cell_type": "code",
   "execution_count": 24,
   "id": "dcdd5b7b",
   "metadata": {},
   "outputs": [
    {
     "data": {
      "text/plain": [
       "0    0.00\n",
       "1   -0.25\n",
       "2   -1.00\n",
       "3    0.50\n",
       "4    0.50\n",
       "5    0.25\n",
       "Name: unitprice, dtype: float64"
      ]
     },
     "execution_count": 24,
     "metadata": {},
     "output_type": "execute_result"
    }
   ],
   "source": [
    "df.groupby('category')['unitprice'].transform(lambda x:x-x.mean())"
   ]
  },
  {
   "cell_type": "markdown",
   "id": "9d137bab",
   "metadata": {},
   "source": [
    "#### 21) What is the correct syntax to get data wrt 'Monday'\n",
    "1) df.groupby(df.Date.dt.day_name()).get_group('Monday')\n",
    "2) df.groupby(df.Date.dt.dayname()).get_group('Monday')\n",
    "3) df.groupby(df.Date.dt.dayofweekname()).get_group('Monday')\n",
    "4) df.groupby(df.Date.dt.day_of_weekname()).get_group('Monday')\n",
    "#### answer : option 1)  It groups the DataFrame by the day names of the 'Date' column using dt.day_name() and then retrieves the group corresponding to 'Monday' using get_group('Monday')"
   ]
  },
  {
   "cell_type": "code",
   "execution_count": 45,
   "id": "10801e71",
   "metadata": {},
   "outputs": [
    {
     "data": {
      "text/html": [
       "<div>\n",
       "<style scoped>\n",
       "    .dataframe tbody tr th:only-of-type {\n",
       "        vertical-align: middle;\n",
       "    }\n",
       "\n",
       "    .dataframe tbody tr th {\n",
       "        vertical-align: top;\n",
       "    }\n",
       "\n",
       "    .dataframe thead th {\n",
       "        text-align: right;\n",
       "    }\n",
       "</style>\n",
       "<table border=\"1\" class=\"dataframe\">\n",
       "  <thead>\n",
       "    <tr style=\"text-align: right;\">\n",
       "      <th></th>\n",
       "      <th>date</th>\n",
       "      <th>category</th>\n",
       "      <th>product</th>\n",
       "      <th>customerID</th>\n",
       "      <th>quantity</th>\n",
       "      <th>unitprice</th>\n",
       "      <th>revenue</th>\n",
       "    </tr>\n",
       "  </thead>\n",
       "  <tbody>\n",
       "    <tr>\n",
       "      <th>0</th>\n",
       "      <td>2024-01-01</td>\n",
       "      <td>beverage</td>\n",
       "      <td>cappuccino</td>\n",
       "      <td>C004</td>\n",
       "      <td>1</td>\n",
       "      <td>3.0</td>\n",
       "      <td>3.0</td>\n",
       "    </tr>\n",
       "  </tbody>\n",
       "</table>\n",
       "</div>"
      ],
      "text/plain": [
       "        date  category     product customerID  quantity  unitprice  revenue\n",
       "0 2024-01-01  beverage  cappuccino       C004         1        3.0      3.0"
      ]
     },
     "execution_count": 45,
     "metadata": {},
     "output_type": "execute_result"
    }
   ],
   "source": [
    "df.groupby(df.date.dt.day_name()).get_group('Monday')"
   ]
  },
  {
   "cell_type": "markdown",
   "id": "03802d52",
   "metadata": {},
   "source": [
    "#### 22) which of the following statements is/are True ?\n",
    "1) apply() can be applied on rows\n",
    "2) apply function can't be applied on rows\n",
    "3) apply applies the function on the entire series at a time.\n",
    "4) apply apllies the function one cell at a time.\n",
    "#### answer : option 3) "
   ]
  },
  {
   "cell_type": "markdown",
   "id": "8bb37f1e",
   "metadata": {},
   "source": [
    "#### 23) Which of the following statements is / are true\n",
    "1) Map applies the functionality on entire DataFrame\n",
    "2) Applymap applies the functionality on series be it ro or a column\n",
    "3) Apply and Map are vectorized applications\n",
    "4) None of the above\n",
    "#### answer : option 2) The applymap function is used for element-wise transformations on all elements of a DataFrame, not just a Series. It is applied to each individual element, not rows or columns."
   ]
  },
  {
   "cell_type": "markdown",
   "id": "0b860df5",
   "metadata": {},
   "source": [
    "### data analytics module 2nd dataframe"
   ]
  },
  {
   "cell_type": "code",
   "execution_count": 54,
   "id": "6a0f00c3",
   "metadata": {},
   "outputs": [
    {
     "data": {
      "text/html": [
       "<div>\n",
       "<style scoped>\n",
       "    .dataframe tbody tr th:only-of-type {\n",
       "        vertical-align: middle;\n",
       "    }\n",
       "\n",
       "    .dataframe tbody tr th {\n",
       "        vertical-align: top;\n",
       "    }\n",
       "\n",
       "    .dataframe thead th {\n",
       "        text-align: right;\n",
       "    }\n",
       "</style>\n",
       "<table border=\"1\" class=\"dataframe\">\n",
       "  <thead>\n",
       "    <tr style=\"text-align: right;\">\n",
       "      <th></th>\n",
       "      <th>date</th>\n",
       "      <th>region</th>\n",
       "      <th>salesperson</th>\n",
       "      <th>product</th>\n",
       "      <th>quantity</th>\n",
       "      <th>unitprice</th>\n",
       "    </tr>\n",
       "  </thead>\n",
       "  <tbody>\n",
       "    <tr>\n",
       "      <th>0</th>\n",
       "      <td>10-01-2024\\t</td>\n",
       "      <td>north</td>\n",
       "      <td>ajay</td>\n",
       "      <td>notebook</td>\n",
       "      <td>5</td>\n",
       "      <td>12</td>\n",
       "    </tr>\n",
       "    <tr>\n",
       "      <th>1</th>\n",
       "      <td>1/11/2024</td>\n",
       "      <td>south</td>\n",
       "      <td>baalu</td>\n",
       "      <td>pen</td>\n",
       "      <td>10</td>\n",
       "      <td>3</td>\n",
       "    </tr>\n",
       "    <tr>\n",
       "      <th>2</th>\n",
       "      <td>1/10/2024</td>\n",
       "      <td>east</td>\n",
       "      <td>chirag</td>\n",
       "      <td>notebook</td>\n",
       "      <td>7</td>\n",
       "      <td>12</td>\n",
       "    </tr>\n",
       "    <tr>\n",
       "      <th>3</th>\n",
       "      <td>1/12/2024</td>\n",
       "      <td>west</td>\n",
       "      <td>ajay</td>\n",
       "      <td>pen</td>\n",
       "      <td>15</td>\n",
       "      <td>3</td>\n",
       "    </tr>\n",
       "    <tr>\n",
       "      <th>4</th>\n",
       "      <td>1/11/2024</td>\n",
       "      <td>north</td>\n",
       "      <td>baalu</td>\n",
       "      <td>binder</td>\n",
       "      <td>20</td>\n",
       "      <td>5</td>\n",
       "    </tr>\n",
       "    <tr>\n",
       "      <th>5</th>\n",
       "      <td>1/12/2024</td>\n",
       "      <td>east</td>\n",
       "      <td>chirag</td>\n",
       "      <td>binder</td>\n",
       "      <td>10</td>\n",
       "      <td>5</td>\n",
       "    </tr>\n",
       "  </tbody>\n",
       "</table>\n",
       "</div>"
      ],
      "text/plain": [
       "           date region salesperson   product  quantity  unitprice\n",
       "0  10-01-2024\\t  north        ajay  notebook         5         12\n",
       "1     1/11/2024  south       baalu       pen        10          3\n",
       "2     1/10/2024   east      chirag  notebook         7         12\n",
       "3     1/12/2024   west        ajay       pen        15          3\n",
       "4     1/11/2024  north       baalu    binder        20          5\n",
       "5     1/12/2024   east      chirag    binder        10          5"
      ]
     },
     "execution_count": 54,
     "metadata": {},
     "output_type": "execute_result"
    }
   ],
   "source": [
    "df1 = pd.read_csv(r\"C:\\Users\\sathw\\Downloads\\data assessment 0f df1.csv\")\n",
    "df1"
   ]
  },
  {
   "cell_type": "markdown",
   "id": "0595bca7",
   "metadata": {},
   "source": [
    "#### 24) create a pivot table with index ass Nort and South and Columns as Product Where values are sum of Quantities Sold\n",
    "1) df1[df1['Region'].isin(['North', 'South'])].pivot_table(index='Region', columns='Product', values='Quantity', aggfunc='sum')\n",
    "2) df1[df1['Region'].isin(['North', 'South'])].pivot_table(index='Product', columns='Product', values='Quantity', aggfunc='sum')\n",
    "3) df1[(df1['Region']=='North')|(df1['Region']=='South')].pivot_table(index='Product', columns='Product', values='Quantity', aggfunc='sum')\n",
    "4) df1[(df1['Region']=='North')|(df1['Region']=='South')].pivot_table(index='Product', columns='Product', values='Quantity', aggfunc='sum')\n",
    "#### answer : option 1) It correctly filters the DataFrame for regions 'North' and 'South' and creates a pivot table with 'Region' as the index, 'Product' as columns, and 'Quantity' as values. It uses the sum as the aggregation function."
   ]
  },
  {
   "cell_type": "code",
   "execution_count": 49,
   "id": "cbde0cf2",
   "metadata": {},
   "outputs": [
    {
     "data": {
      "text/html": [
       "<div>\n",
       "<style scoped>\n",
       "    .dataframe tbody tr th:only-of-type {\n",
       "        vertical-align: middle;\n",
       "    }\n",
       "\n",
       "    .dataframe tbody tr th {\n",
       "        vertical-align: top;\n",
       "    }\n",
       "\n",
       "    .dataframe thead th {\n",
       "        text-align: right;\n",
       "    }\n",
       "</style>\n",
       "<table border=\"1\" class=\"dataframe\">\n",
       "  <thead>\n",
       "    <tr style=\"text-align: right;\">\n",
       "      <th>product</th>\n",
       "      <th>binder</th>\n",
       "      <th>notebook</th>\n",
       "      <th>pen</th>\n",
       "    </tr>\n",
       "    <tr>\n",
       "      <th>region</th>\n",
       "      <th></th>\n",
       "      <th></th>\n",
       "      <th></th>\n",
       "    </tr>\n",
       "  </thead>\n",
       "  <tbody>\n",
       "    <tr>\n",
       "      <th>north</th>\n",
       "      <td>20.0</td>\n",
       "      <td>5.0</td>\n",
       "      <td>NaN</td>\n",
       "    </tr>\n",
       "    <tr>\n",
       "      <th>south</th>\n",
       "      <td>NaN</td>\n",
       "      <td>NaN</td>\n",
       "      <td>10.0</td>\n",
       "    </tr>\n",
       "  </tbody>\n",
       "</table>\n",
       "</div>"
      ],
      "text/plain": [
       "product  binder  notebook   pen\n",
       "region                         \n",
       "north      20.0       5.0   NaN\n",
       "south       NaN       NaN  10.0"
      ]
     },
     "execution_count": 49,
     "metadata": {},
     "output_type": "execute_result"
    }
   ],
   "source": [
    "df1[df1['region'].isin(['north', 'south'])].pivot_table(index='region', columns='product', values='quantity', aggfunc='sum')"
   ]
  },
  {
   "cell_type": "markdown",
   "id": "02b475fa",
   "metadata": {},
   "source": [
    "#### 25) Which of the following statements is/are True\n",
    "1) .iloc method includes the last element when used for slicing\n",
    "2) .loc method doesn't includes the last element when used for slicing\n",
    "3) .loc method includes the last element and pass default integer index of rows when slicing\n",
    "4) None of above\n",
    "#### answer : option 3) # True. You can use .loc and pass the default integer index of rows for slicing. This means you can slice the DataFrame using row indices."
   ]
  },
  {
   "cell_type": "markdown",
   "id": "69d45a62",
   "metadata": {},
   "source": [
    "#### 26) Using a pivot table is it possible to create a multi-index data frame,if so what is the syntax to have a multi index of Date and Region with total product sold as values\n",
    "1) no we can't create a multi-index table uisng pivot table\n",
    "2) df1.pivot_table(index=['Date','Region'],columns='Product',values='Quantity',aggfunc='sum')\n",
    "3) df1.pivot_table(index=['Date','Region'],columns='Product',values='Quantity',agg='sum')\n",
    "4) None of these\n",
    "#### answer : option 2)  It uses the pivot_table method to create a multi-index DataFrame with 'Date' and 'Region' as the index levels, 'Product' as columns, and 'Quantity' as values. It uses 'sum' as the aggregation function."
   ]
  },
  {
   "cell_type": "code",
   "execution_count": 51,
   "id": "d2df485d",
   "metadata": {},
   "outputs": [
    {
     "data": {
      "text/html": [
       "<div>\n",
       "<style scoped>\n",
       "    .dataframe tbody tr th:only-of-type {\n",
       "        vertical-align: middle;\n",
       "    }\n",
       "\n",
       "    .dataframe tbody tr th {\n",
       "        vertical-align: top;\n",
       "    }\n",
       "\n",
       "    .dataframe thead th {\n",
       "        text-align: right;\n",
       "    }\n",
       "</style>\n",
       "<table border=\"1\" class=\"dataframe\">\n",
       "  <thead>\n",
       "    <tr style=\"text-align: right;\">\n",
       "      <th></th>\n",
       "      <th>product</th>\n",
       "      <th>binder</th>\n",
       "      <th>notebook</th>\n",
       "      <th>pen</th>\n",
       "    </tr>\n",
       "    <tr>\n",
       "      <th>date</th>\n",
       "      <th>region</th>\n",
       "      <th></th>\n",
       "      <th></th>\n",
       "      <th></th>\n",
       "    </tr>\n",
       "  </thead>\n",
       "  <tbody>\n",
       "    <tr>\n",
       "      <th>1/10/2024</th>\n",
       "      <th>east</th>\n",
       "      <td>NaN</td>\n",
       "      <td>7.0</td>\n",
       "      <td>NaN</td>\n",
       "    </tr>\n",
       "    <tr>\n",
       "      <th rowspan=\"2\" valign=\"top\">1/11/2024</th>\n",
       "      <th>north</th>\n",
       "      <td>20.0</td>\n",
       "      <td>NaN</td>\n",
       "      <td>NaN</td>\n",
       "    </tr>\n",
       "    <tr>\n",
       "      <th>south</th>\n",
       "      <td>NaN</td>\n",
       "      <td>NaN</td>\n",
       "      <td>10.0</td>\n",
       "    </tr>\n",
       "    <tr>\n",
       "      <th rowspan=\"2\" valign=\"top\">1/12/2024</th>\n",
       "      <th>east</th>\n",
       "      <td>10.0</td>\n",
       "      <td>NaN</td>\n",
       "      <td>NaN</td>\n",
       "    </tr>\n",
       "    <tr>\n",
       "      <th>west</th>\n",
       "      <td>NaN</td>\n",
       "      <td>NaN</td>\n",
       "      <td>15.0</td>\n",
       "    </tr>\n",
       "    <tr>\n",
       "      <th>10-01-2024\\t</th>\n",
       "      <th>north</th>\n",
       "      <td>NaN</td>\n",
       "      <td>5.0</td>\n",
       "      <td>NaN</td>\n",
       "    </tr>\n",
       "  </tbody>\n",
       "</table>\n",
       "</div>"
      ],
      "text/plain": [
       "product              binder  notebook   pen\n",
       "date         region                        \n",
       "1/10/2024    east       NaN       7.0   NaN\n",
       "1/11/2024    north     20.0       NaN   NaN\n",
       "             south      NaN       NaN  10.0\n",
       "1/12/2024    east      10.0       NaN   NaN\n",
       "             west       NaN       NaN  15.0\n",
       "10-01-2024\\t north      NaN       5.0   NaN"
      ]
     },
     "execution_count": 51,
     "metadata": {},
     "output_type": "execute_result"
    }
   ],
   "source": [
    "df1.pivot_table(index=['date','region'],columns='product',values='quantity',aggfunc='sum')"
   ]
  },
  {
   "cell_type": "markdown",
   "id": "18ba59a6",
   "metadata": {},
   "source": [
    "#### 27) What does the margins parameter in pivot_table() allows to include in the pivot table\n",
    "1) Additional margins and subtotals for rows and columns\n",
    "2) A list of column names to exclude from the pivot table\n",
    "3) The number of rows and columns to skip at the beginning of the pivot table\n",
    "4) The maximum number of rows and columns to display in the pivot table\n",
    "#### answer : option 1) When you set margins=True or margins_name=True, it adds rows and columns showing the grand totals or subtotals along both dimensions (rows and columns) of the pivot table."
   ]
  },
  {
   "cell_type": "code",
   "execution_count": 53,
   "id": "de128b46",
   "metadata": {},
   "outputs": [
    {
     "data": {
      "text/html": [
       "<div>\n",
       "<style scoped>\n",
       "    .dataframe tbody tr th:only-of-type {\n",
       "        vertical-align: middle;\n",
       "    }\n",
       "\n",
       "    .dataframe tbody tr th {\n",
       "        vertical-align: top;\n",
       "    }\n",
       "\n",
       "    .dataframe thead th {\n",
       "        text-align: right;\n",
       "    }\n",
       "</style>\n",
       "<table border=\"1\" class=\"dataframe\">\n",
       "  <thead>\n",
       "    <tr style=\"text-align: right;\">\n",
       "      <th></th>\n",
       "      <th>Fruits</th>\n",
       "      <th>Price</th>\n",
       "    </tr>\n",
       "  </thead>\n",
       "  <tbody>\n",
       "    <tr>\n",
       "      <th>0</th>\n",
       "      <td>apple</td>\n",
       "      <td></td>\n",
       "    </tr>\n",
       "    <tr>\n",
       "      <th>1</th>\n",
       "      <td>banana</td>\n",
       "      <td></td>\n",
       "    </tr>\n",
       "    <tr>\n",
       "      <th>2</th>\n",
       "      <td>apple</td>\n",
       "      <td>205</td>\n",
       "    </tr>\n",
       "    <tr>\n",
       "      <th>3</th>\n",
       "      <td>apple</td>\n",
       "      <td>200</td>\n",
       "    </tr>\n",
       "    <tr>\n",
       "      <th>4</th>\n",
       "      <td>banana</td>\n",
       "      <td>40</td>\n",
       "    </tr>\n",
       "    <tr>\n",
       "      <th>5</th>\n",
       "      <td>apple</td>\n",
       "      <td>210</td>\n",
       "    </tr>\n",
       "    <tr>\n",
       "      <th>6</th>\n",
       "      <td>kiwi</td>\n",
       "      <td>300</td>\n",
       "    </tr>\n",
       "    <tr>\n",
       "      <th>7</th>\n",
       "      <td>kiwi</td>\n",
       "      <td>320</td>\n",
       "    </tr>\n",
       "    <tr>\n",
       "      <th>8</th>\n",
       "      <td>banana</td>\n",
       "      <td></td>\n",
       "    </tr>\n",
       "    <tr>\n",
       "      <th>9</th>\n",
       "      <td>apple</td>\n",
       "      <td>180</td>\n",
       "    </tr>\n",
       "    <tr>\n",
       "      <th>10</th>\n",
       "      <td>kiwi</td>\n",
       "      <td>350</td>\n",
       "    </tr>\n",
       "    <tr>\n",
       "      <th>11</th>\n",
       "      <td>apple</td>\n",
       "      <td></td>\n",
       "    </tr>\n",
       "    <tr>\n",
       "      <th>12</th>\n",
       "      <td>banana</td>\n",
       "      <td>35</td>\n",
       "    </tr>\n",
       "    <tr>\n",
       "      <th>13</th>\n",
       "      <td>grape</td>\n",
       "      <td></td>\n",
       "    </tr>\n",
       "    <tr>\n",
       "      <th>14</th>\n",
       "      <td>apple</td>\n",
       "      <td>215</td>\n",
       "    </tr>\n",
       "    <tr>\n",
       "      <th>15</th>\n",
       "      <td>banana</td>\n",
       "      <td>40</td>\n",
       "    </tr>\n",
       "    <tr>\n",
       "      <th>16</th>\n",
       "      <td>apple</td>\n",
       "      <td></td>\n",
       "    </tr>\n",
       "    <tr>\n",
       "      <th>17</th>\n",
       "      <td>apple</td>\n",
       "      <td></td>\n",
       "    </tr>\n",
       "    <tr>\n",
       "      <th>18</th>\n",
       "      <td>grape</td>\n",
       "      <td></td>\n",
       "    </tr>\n",
       "  </tbody>\n",
       "</table>\n",
       "</div>"
      ],
      "text/plain": [
       "    Fruits Price\n",
       "0    apple      \n",
       "1   banana      \n",
       "2    apple   205\n",
       "3    apple   200\n",
       "4   banana    40\n",
       "5    apple   210\n",
       "6     kiwi   300\n",
       "7     kiwi   320\n",
       "8   banana      \n",
       "9    apple   180\n",
       "10    kiwi   350\n",
       "11   apple      \n",
       "12  banana    35\n",
       "13   grape      \n",
       "14   apple   215\n",
       "15  banana    40\n",
       "16   apple      \n",
       "17   apple      \n",
       "18   grape      "
      ]
     },
     "execution_count": 53,
     "metadata": {},
     "output_type": "execute_result"
    }
   ],
   "source": [
    "df2 = pd.DataFrame({\n",
    "    'Fruits': ['apple', 'banana', 'apple', 'apple', 'banana', 'apple', 'kiwi', 'kiwi', 'banana', 'apple', 'kiwi', 'apple', 'banana', 'grape', 'apple', 'banana', 'apple', 'apple', 'grape'],\n",
    "    'Price': ['', '', 205, 200, 40, 210, 300, 320, '', 180, 350, '', 35, '', 215, 40, '', '', '']\n",
    "})\n",
    "df2"
   ]
  },
  {
   "cell_type": "markdown",
   "id": "6662814d",
   "metadata": {},
   "source": [
    "#### 28) If we choose to imputing missing values in Price Col by Chaining ffill() and bfill() while limiting the imputation to 1,1 respectively , how many missing values will be left post imputation\n",
    "1) 2\n",
    "2) 0\n",
    "3) 1\n",
    "4) 3\n",
    "#### answer : option 3"
   ]
  },
  {
   "cell_type": "code",
   "execution_count": 55,
   "id": "21329fd1",
   "metadata": {},
   "outputs": [
    {
     "data": {
      "text/html": [
       "<div>\n",
       "<style scoped>\n",
       "    .dataframe tbody tr th:only-of-type {\n",
       "        vertical-align: middle;\n",
       "    }\n",
       "\n",
       "    .dataframe tbody tr th {\n",
       "        vertical-align: top;\n",
       "    }\n",
       "\n",
       "    .dataframe thead th {\n",
       "        text-align: right;\n",
       "    }\n",
       "</style>\n",
       "<table border=\"1\" class=\"dataframe\">\n",
       "  <thead>\n",
       "    <tr style=\"text-align: right;\">\n",
       "      <th></th>\n",
       "      <th>Fruits</th>\n",
       "      <th>Price</th>\n",
       "    </tr>\n",
       "  </thead>\n",
       "  <tbody>\n",
       "    <tr>\n",
       "      <th>0</th>\n",
       "      <td>apple</td>\n",
       "      <td>NaN</td>\n",
       "    </tr>\n",
       "    <tr>\n",
       "      <th>1</th>\n",
       "      <td>banana</td>\n",
       "      <td>205.0</td>\n",
       "    </tr>\n",
       "    <tr>\n",
       "      <th>2</th>\n",
       "      <td>apple</td>\n",
       "      <td>205.0</td>\n",
       "    </tr>\n",
       "    <tr>\n",
       "      <th>3</th>\n",
       "      <td>apple</td>\n",
       "      <td>200.0</td>\n",
       "    </tr>\n",
       "    <tr>\n",
       "      <th>4</th>\n",
       "      <td>banana</td>\n",
       "      <td>40.0</td>\n",
       "    </tr>\n",
       "    <tr>\n",
       "      <th>5</th>\n",
       "      <td>apple</td>\n",
       "      <td>210.0</td>\n",
       "    </tr>\n",
       "    <tr>\n",
       "      <th>6</th>\n",
       "      <td>kiwi</td>\n",
       "      <td>300.0</td>\n",
       "    </tr>\n",
       "    <tr>\n",
       "      <th>7</th>\n",
       "      <td>kiwi</td>\n",
       "      <td>320.0</td>\n",
       "    </tr>\n",
       "    <tr>\n",
       "      <th>8</th>\n",
       "      <td>banana</td>\n",
       "      <td>320.0</td>\n",
       "    </tr>\n",
       "    <tr>\n",
       "      <th>9</th>\n",
       "      <td>apple</td>\n",
       "      <td>180.0</td>\n",
       "    </tr>\n",
       "    <tr>\n",
       "      <th>10</th>\n",
       "      <td>kiwi</td>\n",
       "      <td>350.0</td>\n",
       "    </tr>\n",
       "    <tr>\n",
       "      <th>11</th>\n",
       "      <td>apple</td>\n",
       "      <td>350.0</td>\n",
       "    </tr>\n",
       "    <tr>\n",
       "      <th>12</th>\n",
       "      <td>banana</td>\n",
       "      <td>35.0</td>\n",
       "    </tr>\n",
       "    <tr>\n",
       "      <th>13</th>\n",
       "      <td>grape</td>\n",
       "      <td>35.0</td>\n",
       "    </tr>\n",
       "    <tr>\n",
       "      <th>14</th>\n",
       "      <td>apple</td>\n",
       "      <td>215.0</td>\n",
       "    </tr>\n",
       "    <tr>\n",
       "      <th>15</th>\n",
       "      <td>banana</td>\n",
       "      <td>40.0</td>\n",
       "    </tr>\n",
       "    <tr>\n",
       "      <th>16</th>\n",
       "      <td>apple</td>\n",
       "      <td>40.0</td>\n",
       "    </tr>\n",
       "    <tr>\n",
       "      <th>17</th>\n",
       "      <td>apple</td>\n",
       "      <td>NaN</td>\n",
       "    </tr>\n",
       "    <tr>\n",
       "      <th>18</th>\n",
       "      <td>grape</td>\n",
       "      <td>NaN</td>\n",
       "    </tr>\n",
       "  </tbody>\n",
       "</table>\n",
       "</div>"
      ],
      "text/plain": [
       "    Fruits  Price\n",
       "0    apple    NaN\n",
       "1   banana  205.0\n",
       "2    apple  205.0\n",
       "3    apple  200.0\n",
       "4   banana   40.0\n",
       "5    apple  210.0\n",
       "6     kiwi  300.0\n",
       "7     kiwi  320.0\n",
       "8   banana  320.0\n",
       "9    apple  180.0\n",
       "10    kiwi  350.0\n",
       "11   apple  350.0\n",
       "12  banana   35.0\n",
       "13   grape   35.0\n",
       "14   apple  215.0\n",
       "15  banana   40.0\n",
       "16   apple   40.0\n",
       "17   apple    NaN\n",
       "18   grape    NaN"
      ]
     },
     "execution_count": 55,
     "metadata": {},
     "output_type": "execute_result"
    }
   ],
   "source": [
    "df2['Price'] = pd.to_numeric(df2['Price'])\n",
    "df2['Price'] = df2['Price'].ffill(limit=1).bfill(limit=1)\n",
    "df2"
   ]
  },
  {
   "cell_type": "markdown",
   "id": "423b66a2",
   "metadata": {},
   "source": [
    "#### 29) What kind of missing values handling technique is appropriate for df2\n",
    "1) Imputing Price col with Price's mean\n",
    "2) Imputing Price col with Price's median\n",
    "3) Imputing Price col with Individual fruits Price's median\n",
    "4) Dropping missing values\n",
    "#### answer : option 3) "
   ]
  },
  {
   "cell_type": "markdown",
   "id": "7987211a",
   "metadata": {},
   "source": [
    "#### 30) If we choose to impute missing values in price col by with individual fruit's price's mean, how many missing values will be post imputation\n",
    "1) 2\n",
    "2) 0\n",
    "3) 1\n",
    "4) 3\n",
    "#### answer : option 2"
   ]
  },
  {
   "cell_type": "code",
   "execution_count": 56,
   "id": "a2a235ae",
   "metadata": {},
   "outputs": [
    {
     "data": {
      "text/html": [
       "<div>\n",
       "<style scoped>\n",
       "    .dataframe tbody tr th:only-of-type {\n",
       "        vertical-align: middle;\n",
       "    }\n",
       "\n",
       "    .dataframe tbody tr th {\n",
       "        vertical-align: top;\n",
       "    }\n",
       "\n",
       "    .dataframe thead th {\n",
       "        text-align: right;\n",
       "    }\n",
       "</style>\n",
       "<table border=\"1\" class=\"dataframe\">\n",
       "  <thead>\n",
       "    <tr style=\"text-align: right;\">\n",
       "      <th></th>\n",
       "      <th>Fruits</th>\n",
       "      <th>Price</th>\n",
       "    </tr>\n",
       "  </thead>\n",
       "  <tbody>\n",
       "    <tr>\n",
       "      <th>0</th>\n",
       "      <td>apple</td>\n",
       "      <td>205.0</td>\n",
       "    </tr>\n",
       "    <tr>\n",
       "      <th>1</th>\n",
       "      <td>banana</td>\n",
       "      <td>205.0</td>\n",
       "    </tr>\n",
       "    <tr>\n",
       "      <th>2</th>\n",
       "      <td>apple</td>\n",
       "      <td>205.0</td>\n",
       "    </tr>\n",
       "    <tr>\n",
       "      <th>3</th>\n",
       "      <td>apple</td>\n",
       "      <td>200.0</td>\n",
       "    </tr>\n",
       "    <tr>\n",
       "      <th>4</th>\n",
       "      <td>banana</td>\n",
       "      <td>40.0</td>\n",
       "    </tr>\n",
       "    <tr>\n",
       "      <th>5</th>\n",
       "      <td>apple</td>\n",
       "      <td>210.0</td>\n",
       "    </tr>\n",
       "    <tr>\n",
       "      <th>6</th>\n",
       "      <td>kiwi</td>\n",
       "      <td>300.0</td>\n",
       "    </tr>\n",
       "    <tr>\n",
       "      <th>7</th>\n",
       "      <td>kiwi</td>\n",
       "      <td>320.0</td>\n",
       "    </tr>\n",
       "    <tr>\n",
       "      <th>8</th>\n",
       "      <td>banana</td>\n",
       "      <td>320.0</td>\n",
       "    </tr>\n",
       "    <tr>\n",
       "      <th>9</th>\n",
       "      <td>apple</td>\n",
       "      <td>180.0</td>\n",
       "    </tr>\n",
       "    <tr>\n",
       "      <th>10</th>\n",
       "      <td>kiwi</td>\n",
       "      <td>350.0</td>\n",
       "    </tr>\n",
       "    <tr>\n",
       "      <th>11</th>\n",
       "      <td>apple</td>\n",
       "      <td>350.0</td>\n",
       "    </tr>\n",
       "    <tr>\n",
       "      <th>12</th>\n",
       "      <td>banana</td>\n",
       "      <td>35.0</td>\n",
       "    </tr>\n",
       "    <tr>\n",
       "      <th>13</th>\n",
       "      <td>grape</td>\n",
       "      <td>35.0</td>\n",
       "    </tr>\n",
       "    <tr>\n",
       "      <th>14</th>\n",
       "      <td>apple</td>\n",
       "      <td>215.0</td>\n",
       "    </tr>\n",
       "    <tr>\n",
       "      <th>15</th>\n",
       "      <td>banana</td>\n",
       "      <td>40.0</td>\n",
       "    </tr>\n",
       "    <tr>\n",
       "      <th>16</th>\n",
       "      <td>apple</td>\n",
       "      <td>40.0</td>\n",
       "    </tr>\n",
       "    <tr>\n",
       "      <th>17</th>\n",
       "      <td>apple</td>\n",
       "      <td>205.0</td>\n",
       "    </tr>\n",
       "    <tr>\n",
       "      <th>18</th>\n",
       "      <td>grape</td>\n",
       "      <td>35.0</td>\n",
       "    </tr>\n",
       "  </tbody>\n",
       "</table>\n",
       "</div>"
      ],
      "text/plain": [
       "    Fruits  Price\n",
       "0    apple  205.0\n",
       "1   banana  205.0\n",
       "2    apple  205.0\n",
       "3    apple  200.0\n",
       "4   banana   40.0\n",
       "5    apple  210.0\n",
       "6     kiwi  300.0\n",
       "7     kiwi  320.0\n",
       "8   banana  320.0\n",
       "9    apple  180.0\n",
       "10    kiwi  350.0\n",
       "11   apple  350.0\n",
       "12  banana   35.0\n",
       "13   grape   35.0\n",
       "14   apple  215.0\n",
       "15  banana   40.0\n",
       "16   apple   40.0\n",
       "17   apple  205.0\n",
       "18   grape   35.0"
      ]
     },
     "execution_count": 56,
     "metadata": {},
     "output_type": "execute_result"
    }
   ],
   "source": [
    "df2['Price'] = pd.to_numeric(df2['Price'])\n",
    "df2['Price'] = df2.groupby('Fruits')['Price'].transform(lambda x: x.fillna(x.median()))\n",
    "df2"
   ]
  },
  {
   "cell_type": "markdown",
   "id": "cc2a01b4",
   "metadata": {},
   "source": [
    "#### 31) a = pd.Series([np.nan, 1, 2, np.nan, np.nan, np.nan, np.nan, 4, 5, 7]) What will be the output of a.interpolate()\n",
    "1) [nan,1.0,2.0,2.3,2.7,3.1,3.5,4.0,5.0,7.0]\n",
    "2) [nan,1.0,2.0,2.5,2.9,3.3,3.8,4.0,5.0,7.0]\n",
    "3) [nan,1.0,2.0,2.4,2.8,3.2,3.6,4.0,5.0,7.0]\n",
    "4) Error\n",
    "#### answer : option 3"
   ]
  },
  {
   "cell_type": "code",
   "execution_count": 57,
   "id": "e46aa6dc",
   "metadata": {},
   "outputs": [
    {
     "data": {
      "text/plain": [
       "0    NaN\n",
       "1    1.0\n",
       "2    2.0\n",
       "3    2.4\n",
       "4    2.8\n",
       "5    3.2\n",
       "6    3.6\n",
       "7    4.0\n",
       "8    5.0\n",
       "9    7.0\n",
       "dtype: float64"
      ]
     },
     "execution_count": 57,
     "metadata": {},
     "output_type": "execute_result"
    }
   ],
   "source": [
    "a = pd.Series([np.nan, 1, 2, np.nan, np.nan, np.nan, np.nan, 4, 5, 7])\n",
    "a.interpolate()"
   ]
  },
  {
   "cell_type": "markdown",
   "id": "61b88759",
   "metadata": {},
   "source": [
    "#### 32) What is the use of the normalization parameter in the crosstab method of pandas\n",
    "1) It is used to normalize values by dividing them by the total count\n",
    "2) to add margins\n",
    "3) ther is no parameter called as normalize in crosstab\n",
    "4) Both a & c\n",
    "#### Answer : option 1)   the normalize parameter is set to True in the pd.crosstab method, it normalizes the values by dividing them by the total count, expressing the table as a fraction of the total."
   ]
  },
  {
   "cell_type": "code",
   "execution_count": 65,
   "id": "44ce5939",
   "metadata": {},
   "outputs": [
    {
     "data": {
      "text/html": [
       "<div>\n",
       "<style scoped>\n",
       "    .dataframe tbody tr th:only-of-type {\n",
       "        vertical-align: middle;\n",
       "    }\n",
       "\n",
       "    .dataframe tbody tr th {\n",
       "        vertical-align: top;\n",
       "    }\n",
       "\n",
       "    .dataframe thead th {\n",
       "        text-align: right;\n",
       "    }\n",
       "</style>\n",
       "<table border=\"1\" class=\"dataframe\">\n",
       "  <thead>\n",
       "    <tr style=\"text-align: right;\">\n",
       "      <th></th>\n",
       "      <th>Age Group</th>\n",
       "      <th>Favorite Color</th>\n",
       "      <th>Gender</th>\n",
       "      <th>Has Pet</th>\n",
       "    </tr>\n",
       "  </thead>\n",
       "  <tbody>\n",
       "    <tr>\n",
       "      <th>0</th>\n",
       "      <td>26-35</td>\n",
       "      <td>Blue</td>\n",
       "      <td>Male</td>\n",
       "      <td>Yes</td>\n",
       "    </tr>\n",
       "    <tr>\n",
       "      <th>1</th>\n",
       "      <td>18-25</td>\n",
       "      <td>Red</td>\n",
       "      <td>Female</td>\n",
       "      <td>Yes</td>\n",
       "    </tr>\n",
       "    <tr>\n",
       "      <th>2</th>\n",
       "      <td>18-25</td>\n",
       "      <td>Red</td>\n",
       "      <td>Male</td>\n",
       "      <td>Yes</td>\n",
       "    </tr>\n",
       "    <tr>\n",
       "      <th>3</th>\n",
       "      <td>26-35</td>\n",
       "      <td>Blue</td>\n",
       "      <td>Female</td>\n",
       "      <td>Yes</td>\n",
       "    </tr>\n",
       "    <tr>\n",
       "      <th>4</th>\n",
       "      <td>18-25</td>\n",
       "      <td>Red</td>\n",
       "      <td>Female</td>\n",
       "      <td>Yes</td>\n",
       "    </tr>\n",
       "    <tr>\n",
       "      <th>5</th>\n",
       "      <td>18-25</td>\n",
       "      <td>Blue</td>\n",
       "      <td>Female</td>\n",
       "      <td>No</td>\n",
       "    </tr>\n",
       "  </tbody>\n",
       "</table>\n",
       "</div>"
      ],
      "text/plain": [
       "  Age Group Favorite Color  Gender Has Pet\n",
       "0     26-35           Blue    Male     Yes\n",
       "1     18-25            Red  Female     Yes\n",
       "2     18-25            Red    Male     Yes\n",
       "3     26-35           Blue  Female     Yes\n",
       "4     18-25            Red  Female     Yes\n",
       "5     18-25           Blue  Female      No"
      ]
     },
     "execution_count": 65,
     "metadata": {},
     "output_type": "execute_result"
    }
   ],
   "source": [
    "df3 =pd.DataFrame({\n",
    "    'Age Group': ['26-35', '18-25', '18-25', '26-35', '18-25', '18-25'],\n",
    "    'Favorite Color': ['Blue', 'Red', 'Red', 'Blue', 'Red', 'Blue'],\n",
    "    'Gender': ['Male', 'Female', 'Male', 'Female', 'Female', 'Female'],\n",
    "    'Has Pet': ['Yes', 'Yes', 'Yes', 'Yes', 'Yes', 'No']\n",
    "})\n",
    "\n",
    "df3"
   ]
  },
  {
   "cell_type": "markdown",
   "id": "f676a125",
   "metadata": {},
   "source": [
    "#### 33) What is the probabilty of finding a Male and having a Pet in df3\n",
    "1) 0.333\n",
    "2) 0.666\n",
    "3) 0.5\n",
    "4) 0.1667\n",
    "#### answer : option 1"
   ]
  },
  {
   "cell_type": "code",
   "execution_count": 67,
   "id": "22625132",
   "metadata": {},
   "outputs": [
    {
     "data": {
      "text/plain": [
       "0.3333333333333333"
      ]
     },
     "execution_count": 67,
     "metadata": {},
     "output_type": "execute_result"
    }
   ],
   "source": [
    "total_observations = len(df3)\n",
    "male_and_has_pet = len(df3[(df3['Gender'] == 'Male') & (df3['Has Pet'] == 'Yes')])\n",
    "\n",
    "probability = male_and_has_pet / total_observations\n",
    "probability"
   ]
  },
  {
   "cell_type": "markdown",
   "id": "1f9fb016",
   "metadata": {},
   "source": [
    "#### 34) What is the probabilty of finding a person having Pet given they belong to the age group 18-25 in df3\n",
    "1) 0.25\n",
    "2) 0\n",
    "3) 0.75\n",
    "4) 1\n",
    "#### answer : option 3"
   ]
  },
  {
   "cell_type": "code",
   "execution_count": 68,
   "id": "a7960640",
   "metadata": {},
   "outputs": [
    {
     "name": "stdout",
     "output_type": "stream",
     "text": [
      "0.75\n"
     ]
    }
   ],
   "source": [
    "age_group_18_25 = len(df3[df3['Age Group'] == '18-25'])\n",
    "has_pet_and_age_group_18_25 = len(df3[(df3['Age Group'] == '18-25') & (df3['Has Pet'] == 'Yes')])\n",
    "\n",
    "probability = has_pet_and_age_group_18_25 / age_group_18_25\n",
    "print(probability)"
   ]
  },
  {
   "cell_type": "markdown",
   "id": "54eeda7d",
   "metadata": {},
   "source": [
    "#### 35) Which distribution is appropriate for modeling the number of defects in a large batch of products\n",
    "1) Normal\n",
    "2) Binomial\n",
    "3) Bernouli\n",
    "4) Uniform\n",
    "\n",
    "#### answer : option 2) Binomial Distribution: This distribution is suitable when you have a fixed number of independent trials, each with the same probability of success or failure. In the context of defects in a batch of products, you can consider each product as a trial, and the probability of success is the probability of a product being defective."
   ]
  },
  {
   "cell_type": "markdown",
   "id": "99e2cf39",
   "metadata": {},
   "source": [
    "#### 36) A survey asks participants to rate their satisfaction with a product on a scale of 1 to 5 ,what type of data is being collected?\n",
    "1) Categorical data\n",
    "2) Ordinal data\n",
    "3) Continuous data\n",
    "4) Discrete data\n",
    "#### answer : option 2) ordinal data : The type of data being collected in this survey is ordinal data. Ordinal data is a categorical and ordered type of data where the values have a meaningful sequence or order, but the intervals between the values are not uniform or meaningful. In this case, the satisfaction ratings on a scale of 1 to 5 have a specific order, but the difference between, for example, a rating of 4 and 5 may not necessarily represent the same level of satisfaction as the difference between 2 and 3."
   ]
  },
  {
   "cell_type": "markdown",
   "id": "576a649e",
   "metadata": {},
   "source": [
    "#### 37) From given fig. in question , what kind of distribution does the data follow\n",
    "1) Right skewed\n",
    "2) Left skewed\n",
    "3) Normal\n",
    "4) Uniform\n",
    "#### answer : option 1"
   ]
  },
  {
   "cell_type": "markdown",
   "id": "bbdf24d3",
   "metadata": {},
   "source": [
    "#### 38) In data with outliers , what is the best measure to estimate the dispersion\n",
    "1) Standard Deviation\n",
    "2) Z-score\n",
    "3) Median Absolute Deviation\n",
    "4) Uniform\n",
    "#### answer : option 3)  This is often the best choice for estimating dispersion in the presence of outliers. therefore, the data with outliers, the most suitable measure from the given options would be the Median Absolute Deviation"
   ]
  }
 ],
 "metadata": {
  "kernelspec": {
   "display_name": "Python 3 (ipykernel)",
   "language": "python",
   "name": "python3"
  },
  "language_info": {
   "codemirror_mode": {
    "name": "ipython",
    "version": 3
   },
   "file_extension": ".py",
   "mimetype": "text/x-python",
   "name": "python",
   "nbconvert_exporter": "python",
   "pygments_lexer": "ipython3",
   "version": "3.11.5"
  }
 },
 "nbformat": 4,
 "nbformat_minor": 5
}
